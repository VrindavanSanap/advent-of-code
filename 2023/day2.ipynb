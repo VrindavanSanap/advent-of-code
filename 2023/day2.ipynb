{
 "cells": [
  {
   "cell_type": "code",
   "execution_count": 86,
   "metadata": {},
   "outputs": [],
   "source": [
    "with open(\"day2.txt\") as f:\n",
    "    games_list = f.read().splitlines()"
   ]
  },
  {
   "cell_type": "code",
   "execution_count": 87,
   "metadata": {},
   "outputs": [],
   "source": [
    "def extract_number(input_string):\n",
    "    combined_int = 0\n",
    "    for char in input_string:\n",
    "        if char.isdigit():\n",
    "            combined_int = combined_int * 10 + int(char)\n",
    "\n",
    "    return combined_int"
   ]
  },
  {
   "cell_type": "code",
   "execution_count": 88,
   "metadata": {},
   "outputs": [],
   "source": [
    "def is_game_valid(game):\n",
    "    game_split = game.split(\":\")\n",
    "    game_no = extract_number(game_split[0])\n",
    "    games = game_split[1].split(\";\")\n",
    "    limits = {\"red\":12, \"green\":13, \"blue\":14}\n",
    "    for game in games:\n",
    "        \n",
    "        for colored_ball in game.split(\",\"):\n",
    "            n_balls = extract_number(colored_ball)\n",
    "            color = colored_ball.strip().split(\" \")[1]\n",
    "            if n_balls > limits[color]:\n",
    "                # print(f\"Game {game_no} is invalid\")\n",
    "                return False  \n",
    "    return True"
   ]
  },
  {
   "cell_type": "code",
   "execution_count": 89,
   "metadata": {},
   "outputs": [
    {
     "data": {
      "text/plain": [
       "100"
      ]
     },
     "execution_count": 89,
     "metadata": {},
     "output_type": "execute_result"
    }
   ],
   "source": [
    "len(games_list)"
   ]
  },
  {
   "cell_type": "code",
   "execution_count": 90,
   "metadata": {},
   "outputs": [],
   "source": [
    "s = 0 \n",
    "for i in range(len(games_list)):\n",
    "    if  is_game_valid(games_list[i]):\n",
    "        s += i + 1\n",
    " "
   ]
  },
  {
   "cell_type": "code",
   "execution_count": 91,
   "metadata": {},
   "outputs": [],
   "source": [
    "#Day 2 "
   ]
  },
  {
   "cell_type": "code",
   "execution_count": 92,
   "metadata": {},
   "outputs": [],
   "source": [
    "from functools import reduce"
   ]
  },
  {
   "cell_type": "code",
   "execution_count": 93,
   "metadata": {},
   "outputs": [],
   "source": [
    "def get_power(game):\n",
    "    game_split = game.split(\":\")\n",
    "    games = game_split[1].split(\";\")\n",
    "    min = {\"red\":0 , \"green\": 0 , \"blue\": 0 }\n",
    "    for game in games:\n",
    "        \n",
    "        for colored_ball in game.split(\",\"):\n",
    "            n_balls = extract_number(colored_ball)\n",
    "            color = colored_ball.strip().split(\" \")[1]\n",
    "            if n_balls > min[color]:\n",
    "                min[color] = n_balls\n",
    "    return reduce(lambda x, y: x * y, ([(min[i]) for i in min]) ) "
   ]
  },
  {
   "cell_type": "code",
   "execution_count": 94,
   "metadata": {},
   "outputs": [
    {
     "name": "stdout",
     "output_type": "stream",
     "text": [
      "49710\n"
     ]
    }
   ],
   "source": [
    "total_power = 0\n",
    "for game in games_list:\n",
    "    total_power += get_power(game)\n",
    "print(total_power)"
   ]
  },
  {
   "cell_type": "code",
   "execution_count": null,
   "metadata": {},
   "outputs": [],
   "source": []
  },
  {
   "cell_type": "code",
   "execution_count": null,
   "metadata": {},
   "outputs": [],
   "source": []
  }
 ],
 "metadata": {
  "kernelspec": {
   "display_name": "Python 3",
   "language": "python",
   "name": "python3"
  },
  "language_info": {
   "codemirror_mode": {
    "name": "ipython",
    "version": 3
   },
   "file_extension": ".py",
   "mimetype": "text/x-python",
   "name": "python",
   "nbconvert_exporter": "python",
   "pygments_lexer": "ipython3",
   "version": "3.9.6"
  }
 },
 "nbformat": 4,
 "nbformat_minor": 2
}
